{
 "cells": [
  {
   "cell_type": "code",
   "execution_count": 16,
   "id": "ab0dc91c-8e9e-4ff0-89a2-268553394fe3",
   "metadata": {},
   "outputs": [],
   "source": [
    "import praw\n",
    "\n",
    "# Initialize the Reddit API client\n",
    "reddit = praw.Reddit(\n",
    "    client_id=\"mhZ0wJFOfhle2EITtXsTfQ\",\n",
    "    client_secret=\"bMtZyoKfhGpbyLBqtvGxfS9CVERe1g\",\n",
    "    user_agent=\"assignment2\",\n",
    ")"
   ]
  },
  {
   "cell_type": "code",
   "execution_count": 17,
   "id": "f34dfff3-9210-4e0f-a23a-9e1862c31b39",
   "metadata": {},
   "outputs": [],
   "source": [
    "subreddit = reddit.subreddit(\"AmItheAsshole\")"
   ]
  },
  {
   "cell_type": "code",
   "execution_count": 18,
   "id": "8b9892a4-e2a0-4adb-9db3-61cceea5382f",
   "metadata": {},
   "outputs": [
    {
     "name": "stderr",
     "output_type": "stream",
     "text": [
      "[nltk_data] Downloading package punkt to\n",
      "[nltk_data]     C:\\Users\\zoech\\AppData\\Roaming\\nltk_data...\n",
      "[nltk_data]   Package punkt is already up-to-date!\n"
     ]
    },
    {
     "name": "stdout",
     "output_type": "stream",
     "text": [
      "i: 1776\n",
      ".: 1762\n",
      "to: 1316\n",
      "and: 1296\n",
      ",: 1196\n",
      "the: 991\n",
      "my: 959\n",
      "a: 854\n",
      "she: 571\n",
      "’: 537\n"
     ]
    }
   ],
   "source": [
    "import nltk\n",
    "from collections import Counter\n",
    "\n",
    "nltk.download(\"punkt\")  \n",
    "\n",
    "# Fetch and process posts\n",
    "keyword_counter = Counter()\n",
    "\n",
    "for submission in subreddit.hot(limit=100):  \n",
    "    # Tokenize the post title and text\n",
    "    tokens = nltk.word_tokenize(submission.title.lower() + submission.selftext.lower())\n",
    "    keyword_counter.update(tokens)\n",
    "\n",
    "# Get the most common keywords\n",
    "common_keywords = keyword_counter.most_common(10)  # Adjust the number as needed\n",
    "\n",
    "for keyword, count in common_keywords:\n",
    "    print(f\"{keyword}: {count}\")"
   ]
  },
  {
   "cell_type": "code",
   "execution_count": null,
   "id": "88d1360e-af78-4abf-932c-a611db21d212",
   "metadata": {},
   "outputs": [],
   "source": []
  },
  {
   "cell_type": "code",
   "execution_count": 28,
   "id": "08cd0e7f-53e9-41d0-9680-8f64af31247b",
   "metadata": {},
   "outputs": [
    {
     "name": "stderr",
     "output_type": "stream",
     "text": [
      "[nltk_data] Downloading package punkt to\n",
      "[nltk_data]     C:\\Users\\zoech\\AppData\\Roaming\\nltk_data...\n",
      "[nltk_data]   Package punkt is already up-to-date!\n",
      "[nltk_data] Downloading package stopwords to\n",
      "[nltk_data]     C:\\Users\\zoech\\AppData\\Roaming\\nltk_data...\n",
      "[nltk_data]   Package stopwords is already up-to-date!\n"
     ]
    }
   ],
   "source": [
    "import praw\n",
    "import nltk\n",
    "from nltk.corpus import stopwords\n",
    "import string\n",
    "from collections import Counter\n",
    "\n",
    "nltk.download(\"punkt\")\n",
    "nltk.download(\"stopwords\")\n",
    "\n",
    "# Initialize NLTK's stopwords list and punctuation\n",
    "stop_words = set(stopwords.words(\"english\"))\n",
    "punctuation = set(string.punctuation)"
   ]
  },
  {
   "cell_type": "code",
   "execution_count": 29,
   "id": "fe41834f-6f47-4c42-af17-684d34f60cc6",
   "metadata": {},
   "outputs": [],
   "source": [
    "top_posts = subreddit.top(limit=10)  "
   ]
  },
  {
   "cell_type": "code",
   "execution_count": 30,
   "id": "3c2074fe-b588-498c-9f3d-096dd447c19c",
   "metadata": {},
   "outputs": [
    {
     "name": "stdout",
     "output_type": "stream",
     "text": [
      "’\n",
      "'s\n",
      "n't\n",
      "parents\n",
      "told\n",
      "get\n",
      "said\n",
      "people\n",
      "''\n",
      "take\n",
      "like\n",
      "``\n",
      "time\n",
      "got\n",
      "family\n",
      "car\n",
      "think\n",
      "back\n",
      "'m\n",
      "aita\n",
      "one\n",
      "even\n",
      "going\n",
      "update\n",
      "zoey\n",
      "much\n",
      "asshole\n",
      "thank\n",
      "'ve\n",
      "everyone\n",
      "go\n",
      "love\n",
      "“\n",
      "come\n",
      "dad\n",
      "house\n",
      "everything\n",
      "last\n",
      "would\n",
      "real\n",
      "life\n",
      "”\n",
      "money\n",
      "wife\n",
      "sister\n",
      "asked\n",
      "things\n",
      "know\n",
      "could\n",
      "really\n",
      "edit\n",
      "lot\n",
      "taking\n",
      "something\n",
      "support\n",
      "week\n",
      "guys\n",
      "say\n",
      "went\n",
      "daughter\n",
      "brother\n",
      "home\n",
      "months\n",
      "ago\n",
      "together\n",
      "care\n",
      "every\n",
      "post\n",
      "want\n",
      "honestly\n",
      "started\n",
      "getting\n",
      "wallet\n",
      "funeral\n",
      "married\n",
      "telling\n",
      "daughters\n",
      "us\n",
      "school\n",
      "girls\n",
      "'re\n",
      "moving\n",
      "stuff\n",
      "'ll\n",
      "move\n",
      "pay\n",
      "day\n",
      "reddit\n",
      "right\n",
      "someone\n",
      "still\n",
      "make\n",
      "need\n",
      "keep\n",
      "lock\n",
      "sammy\n",
      "couple\n",
      "along\n",
      "already\n",
      "found\n"
     ]
    }
   ],
   "source": [
    "keyword_counter = Counter()\n",
    "\n",
    "for submission in top_posts:\n",
    "    # Combine the post title and text\n",
    "    post_text = submission.title + \" \" + submission.selftext\n",
    "    # Tokenize and preprocess the text\n",
    "    tokens = nltk.word_tokenize(post_text.lower())\n",
    "    filtered_tokens = [word for word in tokens if word not in stop_words and word not in punctuation]\n",
    "    keyword_counter.update(filtered_tokens)\n",
    "\n",
    "# Get the most common keywords, excluding stopwords\n",
    "common_keywords = [keyword for keyword, count in keyword_counter.most_common(100)]\n",
    "\n",
    "for keyword in common_keywords:\n",
    "    print(keyword)"
   ]
  },
  {
   "cell_type": "code",
   "execution_count": null,
   "id": "767019e1-db84-4794-9155-1517c4460992",
   "metadata": {},
   "outputs": [],
   "source": []
  }
 ],
 "metadata": {
  "kernelspec": {
   "display_name": "Python 3 (ipykernel)",
   "language": "python",
   "name": "python3"
  },
  "language_info": {
   "codemirror_mode": {
    "name": "ipython",
    "version": 3
   },
   "file_extension": ".py",
   "mimetype": "text/x-python",
   "name": "python",
   "nbconvert_exporter": "python",
   "pygments_lexer": "ipython3",
   "version": "3.11.5"
  }
 },
 "nbformat": 4,
 "nbformat_minor": 5
}
