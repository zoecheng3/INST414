{
 "cells": [
  {
   "cell_type": "code",
   "execution_count": 1,
   "id": "c4f26fbe-4bba-400f-a7f2-a8a948b72b7a",
   "metadata": {},
   "outputs": [
    {
     "name": "stdout",
     "output_type": "stream",
     "text": [
      "Movies similar to 'Avatar':\n",
      "                     title  similarity\n",
      "4620  Fighting Tommy Riley    0.986526\n",
      "4322    Sex With Strangers    0.977987\n",
      "96               Inception    0.909736\n",
      "16            The Avengers    0.891468\n",
      "4205              N-Secure    0.889974\n",
      "4581  Gory Gory Hallelujah    0.888612\n",
      "65         The Dark Knight    0.877253\n",
      "66                      Up    0.863904\n",
      "31              Iron Man 3    0.859640\n",
      "68                Iron Man    0.857822\n",
      "\n",
      "\n",
      "Movies similar to 'Tangled':\n",
      "                     title  similarity\n",
      "4620  Fighting Tommy Riley    0.986478\n",
      "4322    Sex With Strangers    0.978026\n",
      "96               Inception    0.916148\n",
      "16            The Avengers    0.898557\n",
      "4205              N-Secure    0.890507\n",
      "4581  Gory Gory Hallelujah    0.889151\n",
      "65         The Dark Knight    0.884607\n",
      "0                   Avatar    0.876448\n",
      "66                      Up    0.871832\n",
      "31              Iron Man 3    0.867862\n",
      "\n",
      "\n",
      "Movies similar to 'Titanic':\n",
      "                     title  similarity\n",
      "4620  Fighting Tommy Riley    0.986372\n",
      "4322    Sex With Strangers    0.977857\n",
      "96               Inception    0.914309\n",
      "16            The Avengers    0.896538\n",
      "4205              N-Secure    0.889983\n",
      "4581  Gory Gory Hallelujah    0.888623\n",
      "65         The Dark Knight    0.882478\n",
      "0                   Avatar    0.874231\n",
      "66                      Up    0.869578\n",
      "31              Iron Man 3    0.865584\n",
      "\n",
      "\n"
     ]
    },
    {
     "name": "stderr",
     "output_type": "stream",
     "text": [
      "C:\\Users\\zoech\\AppData\\Local\\Temp\\ipykernel_38944\\3999001172.py:23: SettingWithCopyWarning: \n",
      "A value is trying to be set on a copy of a slice from a DataFrame.\n",
      "Try using .loc[row_indexer,col_indexer] = value instead\n",
      "\n",
      "See the caveats in the documentation: https://pandas.pydata.org/pandas-docs/stable/user_guide/indexing.html#returning-a-view-versus-a-copy\n",
      "  data[attributes] = data[attributes].apply(lambda x: (x - x.min()) / (x.max() - x.min()), axis=0)\n",
      "C:\\Users\\zoech\\AppData\\Local\\Temp\\ipykernel_38944\\3999001172.py:23: SettingWithCopyWarning: \n",
      "A value is trying to be set on a copy of a slice from a DataFrame.\n",
      "Try using .loc[row_indexer,col_indexer] = value instead\n",
      "\n",
      "See the caveats in the documentation: https://pandas.pydata.org/pandas-docs/stable/user_guide/indexing.html#returning-a-view-versus-a-copy\n",
      "  data[attributes] = data[attributes].apply(lambda x: (x - x.min()) / (x.max() - x.min()), axis=0)\n",
      "C:\\Users\\zoech\\AppData\\Local\\Temp\\ipykernel_38944\\3999001172.py:23: SettingWithCopyWarning: \n",
      "A value is trying to be set on a copy of a slice from a DataFrame.\n",
      "Try using .loc[row_indexer,col_indexer] = value instead\n",
      "\n",
      "See the caveats in the documentation: https://pandas.pydata.org/pandas-docs/stable/user_guide/indexing.html#returning-a-view-versus-a-copy\n",
      "  data[attributes] = data[attributes].apply(lambda x: (x - x.min()) / (x.max() - x.min()), axis=0)\n"
     ]
    }
   ],
   "source": [
    "import pandas as pd\n",
    "import numpy as np\n",
    "from sklearn.metrics.pairwise import cosine_similarity\n",
    "\n",
    "data = pd.read_csv(\"C:/Users/zoech/Downloads/archive (1)/tmdb_5000_movies.csv\")\n",
    "\n",
    "queries = [\"Avatar\", \"Tangled\", \"Titanic\"]\n",
    "\n",
    "# Function to calculate cosine similarity\n",
    "def get_similarity(query, data):\n",
    "    query_movie = data[data['original_title'] == query]\n",
    "    attributes = ['popularity', 'vote_count', 'runtime']\n",
    "    data = data.dropna(subset=attributes)\n",
    "    data[attributes] = data[attributes].apply(lambda x: (x - x.min()) / (x.max() - x.min()), axis=0)\n",
    "    similarities = cosine_similarity(data[attributes], query_movie[attributes])\n",
    "    sim_df = pd.DataFrame(data={'title': data['original_title'], 'similarity': similarities.flatten()})\n",
    "    sim_df = sim_df.sort_values(by='similarity', ascending=False)  \n",
    "    return sim_df\n",
    "\n",
    "# Find similar movies for each query\n",
    "for query in queries:\n",
    "    print(f\"Movies similar to '{query}':\")\n",
    "    similarity_df = get_similarity(query, data)\n",
    "    \n",
    "    # Exclude the query movie itself\n",
    "    similarity_df = similarity_df[similarity_df['title'] != query]\n",
    "    \n",
    "    # Display the top 10 most similar movies\n",
    "    top_10_similar = similarity_df.head(10)\n",
    "    print(top_10_similar)\n",
    "    print(\"\\n\")\n"
   ]
  },
  {
   "cell_type": "code",
   "execution_count": null,
   "id": "93544b97-d2f9-43fa-a098-74f502e93f4f",
   "metadata": {},
   "outputs": [],
   "source": []
  }
 ],
 "metadata": {
  "kernelspec": {
   "display_name": "Python 3 (ipykernel)",
   "language": "python",
   "name": "python3"
  },
  "language_info": {
   "codemirror_mode": {
    "name": "ipython",
    "version": 3
   },
   "file_extension": ".py",
   "mimetype": "text/x-python",
   "name": "python",
   "nbconvert_exporter": "python",
   "pygments_lexer": "ipython3",
   "version": "3.11.5"
  }
 },
 "nbformat": 4,
 "nbformat_minor": 5
}
